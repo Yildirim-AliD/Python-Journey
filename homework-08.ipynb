{
 "cells": [
  {
   "cell_type": "code",
   "execution_count": 1,
   "id": "98f2d453-637b-4f1d-8d8d-8f513ff1fe8a",
   "metadata": {},
   "outputs": [
    {
     "name": "stdout",
     "output_type": "stream",
     "text": [
      "banana\n",
      "apple\n",
      "cherry\n",
      "orange\n"
     ]
    }
   ],
   "source": [
    "#List\n",
    "fruits = [\"apple\", \"banana\", \"cherry\"]\n",
    "print(fruits[1])\n",
    "fruits.append(\"orange\")\n",
    "\n",
    "fruits.remove(\"banana\")\n",
    "\n",
    "for fruit in fruits:\n",
    "    print(fruit)\n"
   ]
  },
  {
   "cell_type": "code",
   "execution_count": 3,
   "id": "4ec08d3e-49ee-46a4-aac2-86f29525199e",
   "metadata": {},
   "outputs": [
    {
     "name": "stdout",
     "output_type": "stream",
     "text": [
      "red\n"
     ]
    }
   ],
   "source": [
    "# Tuple\n",
    "colors = (\"red\", \"green\", \"blue\")\n",
    "print(colors[0])\n",
    "\n",
    "one_item = (\"hello\",)\n"
   ]
  },
  {
   "cell_type": "code",
   "execution_count": 5,
   "id": "a92287b1-a55d-43e3-a3b7-54782a728e13",
   "metadata": {},
   "outputs": [
    {
     "name": "stdout",
     "output_type": "stream",
     "text": [
      "{1, 2, 3}\n"
     ]
    }
   ],
   "source": [
    "# Set\n",
    "numbers = {1, 2, 3, 2}\n",
    "print(numbers)  # {1, 2, 3}\n",
    "\n",
    "numbers.add(4)\n",
    "\n",
    "numbers.discard(2)\n"
   ]
  },
  {
   "cell_type": "code",
   "execution_count": 31,
   "id": "27ff04da-e603-4aef-8faa-d171951eb820",
   "metadata": {},
   "outputs": [
    {
     "name": "stdout",
     "output_type": "stream",
     "text": [
      "Ali\n",
      "name: Ali\n",
      "age: 22\n",
      "grade: A\n",
      "university: Dokuz Eylül Uni\n"
     ]
    }
   ],
   "source": [
    "# Dict\n",
    "student = {\"name\": \"Ali\", \"age\": 22, \"grade\": \"A\"}\n",
    "\n",
    "print(student[\"name\"])\n",
    "\n",
    "student[\"university\"] = \"Dokuz Eylül Uni\"\n",
    "\n",
    "for key, value in student.items():\n",
    "    print(f\"{key}: {value}\")\n"
   ]
  },
  {
   "cell_type": "code",
   "execution_count": 33,
   "id": "045cc573-47d0-4bca-bab4-5255755ac5ab",
   "metadata": {},
   "outputs": [
    {
     "name": "stdin",
     "output_type": "stream",
     "text": [
      "Enter a number:  0\n"
     ]
    },
    {
     "name": "stdout",
     "output_type": "stream",
     "text": [
      "Zero\n"
     ]
    }
   ],
   "source": [
    "x = int(input(\"Enter a number: \"))\n",
    "\n",
    "if x > 0:\n",
    "    print(\"Positive\")\n",
    "elif x == 0:\n",
    "    print(\"Zero\")\n",
    "else:\n",
    "    print(\"Negative\")"
   ]
  },
  {
   "cell_type": "code",
   "execution_count": 13,
   "id": "d0d80142-a288-4877-88f3-c95807b8ff44",
   "metadata": {},
   "outputs": [
    {
     "name": "stdout",
     "output_type": "stream",
     "text": [
      "1\n",
      "2\n"
     ]
    }
   ],
   "source": [
    "for i in range(1, 3):\n",
    "    print(i)"
   ]
  },
  {
   "cell_type": "code",
   "execution_count": 15,
   "id": "7771eecd-2370-46ae-9d73-f050bad9dc5c",
   "metadata": {},
   "outputs": [
    {
     "name": "stdout",
     "output_type": "stream",
     "text": [
      "Sayı: 0\n",
      "Sayı: 1\n",
      "Sayı: 2\n",
      "Sayı: 3\n",
      "Sayı: 4\n"
     ]
    }
   ],
   "source": [
    "count = 0\n",
    "while count < 5:\n",
    "    print(\"Number:\", count)\n",
    "    count += 1"
   ]
  },
  {
   "cell_type": "code",
   "execution_count": 17,
   "id": "c480a7bb-887b-4491-90f3-3040a334c023",
   "metadata": {},
   "outputs": [
    {
     "name": "stdout",
     "output_type": "stream",
     "text": [
      "1\n",
      "3\n"
     ]
    }
   ],
   "source": [
    "for i in range(10):\n",
    "    if i == 5:\n",
    "        break\n",
    "    if i % 2 == 0:\n",
    "        continue\n",
    "    print(i)  "
   ]
  },
  {
   "cell_type": "code",
   "execution_count": 19,
   "id": "7416512e-1fd3-481b-b11a-1337960e0965",
   "metadata": {},
   "outputs": [
    {
     "name": "stdout",
     "output_type": "stream",
     "text": [
      "Merhaba!\n"
     ]
    }
   ],
   "source": [
    "def greet():\n",
    "    print(\"Merhaba!\")\n",
    "greet()"
   ]
  },
  {
   "cell_type": "code",
   "execution_count": 21,
   "id": "e87cc47b-6892-4295-866d-4821c59503cd",
   "metadata": {},
   "outputs": [
    {
     "name": "stdout",
     "output_type": "stream",
     "text": [
      "25\n"
     ]
    }
   ],
   "source": [
    "def square(n):\n",
    "    return n * n\n",
    "print(square(5))"
   ]
  },
  {
   "cell_type": "code",
   "execution_count": 23,
   "id": "320f1b9d-dc04-4292-9a09-30bbc9ab6598",
   "metadata": {},
   "outputs": [
    {
     "name": "stdout",
     "output_type": "stream",
     "text": [
      "10\n",
      "ad: Ali\n",
      "yas: 25\n"
     ]
    }
   ],
   "source": [
    "def toplam(*args):\n",
    "    return sum(args)\n",
    "print(toplam(1, 2, 3, 4))\n",
    "\n",
    "def kisi_bilgisi(**kwargs):\n",
    "    for key, value in kwargs.items():\n",
    "        print(f\"{key}: {value}\")\n",
    "kisi_bilgisi(ad=\"Ali\", yas=22)"
   ]
  },
  {
   "cell_type": "code",
   "execution_count": 25,
   "id": "71f4e48e-dc69-4175-8982-2092151ad6d3",
   "metadata": {},
   "outputs": [
    {
     "name": "stdout",
     "output_type": "stream",
     "text": [
      "Toyota Corolla\n"
     ]
    }
   ],
   "source": [
    "class Araba:\n",
    "    def __init__(self, marka, model):\n",
    "        self.marka = marka\n",
    "        self.model = model\n",
    "\n",
    "    def bilgi(self):\n",
    "        print(f\"{self.marka} {self.model}\")\n",
    "\n",
    "arac = Araba(\"Toyota\", \"Corolla\")\n",
    "arac.bilgi()"
   ]
  },
  {
   "cell_type": "code",
   "execution_count": 35,
   "id": "9d03b793-4698-496e-a39b-769d3cea9450",
   "metadata": {},
   "outputs": [
    {
     "name": "stdout",
     "output_type": "stream",
     "text": [
      "Meow\n"
     ]
    }
   ],
   "source": [
    "class Hayvan:\n",
    "    def ses_cikar(self):\n",
    "        print(\"Animal Sound\")\n",
    "\n",
    "class Kedi(Hayvan):\n",
    "    def ses_cikar(self):\n",
    "        print(\"Meow\")\n",
    "\n",
    "k = Kedi()\n",
    "k.ses_cikar()  "
   ]
  },
  {
   "cell_type": "code",
   "execution_count": 37,
   "id": "bd6081f4-de89-46c7-a22c-459e3e1c4130",
   "metadata": {},
   "outputs": [
    {
     "name": "stdin",
     "output_type": "stream",
     "text": [
      "Enter a integer:  0\n"
     ]
    },
    {
     "name": "stdout",
     "output_type": "stream",
     "text": [
      "Division by zero error!\n",
      "Complete.\n"
     ]
    }
   ],
   "source": [
    "try:\n",
    "    sayi = int(input(\"Enter a integer: \"))\n",
    "    print(10 / sayi)\n",
    "except ZeroDivisionError:\n",
    "    print(\"Division by zero error!\")\n",
    "except ValueError:\n",
    "    print(\"Invalid input, it must be a number.\")\n",
    "finally:\n",
    "    print(\"Complete.\")"
   ]
  },
  {
   "cell_type": "code",
   "execution_count": null,
   "id": "e26a38a6-e57b-4a14-a5bc-c83939207e4a",
   "metadata": {},
   "outputs": [],
   "source": []
  }
 ],
 "metadata": {
  "kernelspec": {
   "display_name": "Python 3 (ipykernel)",
   "language": "python",
   "name": "python3"
  },
  "language_info": {
   "codemirror_mode": {
    "name": "ipython",
    "version": 3
   },
   "file_extension": ".py",
   "mimetype": "text/x-python",
   "name": "python",
   "nbconvert_exporter": "python",
   "pygments_lexer": "ipython3",
   "version": "3.12.7"
  }
 },
 "nbformat": 4,
 "nbformat_minor": 5
}
