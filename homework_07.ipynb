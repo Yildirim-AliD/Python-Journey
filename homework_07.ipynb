{
 "cells": [
  {
   "cell_type": "code",
   "execution_count": 1,
   "id": "100514a2-dae4-4839-bf9c-7ebfe9214fcf",
   "metadata": {},
   "outputs": [
    {
     "name": "stdout",
     "output_type": "stream",
     "text": [
      "345\n",
      "14\n"
     ]
    }
   ],
   "source": [
    "\"\"\"\"Imagine you have a list containing strings.\n",
    "\n",
    "python\n",
    "Kopyala\n",
    "Düzenle\n",
    "liste = [\"345\", \"sadas\", \"324a\", \"14\", \"kemal\"]\n",
    "Print the strings from this list that contain only digits. Make sure to use try and except blocks while doing this.\"\"\"\n",
    "\n",
    "liste = [\"345\",\"sadas\",\"324a\",\"14\",\"kemal\"]\n",
    "\n",
    "for n in liste:\n",
    "    \n",
    "    try: \n",
    "        n = int(n) # Eğer hata ile karşılaşırsak burası hata verecek ve print çalışmayacak.\n",
    "        print(n)\n",
    "    except:\n",
    "        pass"
   ]
  },
  {
   "cell_type": "code",
   "execution_count": 3,
   "id": "cf270916-05ac-4367-9782-920e9c237d31",
   "metadata": {},
   "outputs": [
    {
     "name": "stdout",
     "output_type": "stream",
     "text": [
      "34\n",
      "2\n",
      "100\n",
      "1800\n"
     ]
    }
   ],
   "source": [
    "\"\"\"Write a function that checks whether a number is even.\n",
    "If the number is even, the function should return the value using return.\n",
    "However, if the number is odd, the function should raise a ValueError.\n",
    "Then, define a list that contains both even and odd numbers, and iterate over the list to print only the even numbers.\"\"\"\n",
    "\n",
    "def isEven(number):\n",
    "    \n",
    "    if (number % 2 == 0):\n",
    "        return number\n",
    "    else:\n",
    "        raise ValueError\n",
    "liste = [34,2,1,3,33,100,61,1800]\n",
    "\n",
    "for i in liste:\n",
    "    try:\n",
    "        print(isEven(i))\n",
    "    except ValueError:\n",
    "        pass\n"
   ]
  },
  {
   "cell_type": "code",
   "execution_count": null,
   "id": "ca12bb4b-0488-4c5f-a264-33f0d3c9e477",
   "metadata": {},
   "outputs": [],
   "source": []
  }
 ],
 "metadata": {
  "kernelspec": {
   "display_name": "Python 3 (ipykernel)",
   "language": "python",
   "name": "python3"
  },
  "language_info": {
   "codemirror_mode": {
    "name": "ipython",
    "version": 3
   },
   "file_extension": ".py",
   "mimetype": "text/x-python",
   "name": "python",
   "nbconvert_exporter": "python",
   "pygments_lexer": "ipython3",
   "version": "3.12.7"
  }
 },
 "nbformat": 4,
 "nbformat_minor": 5
}
