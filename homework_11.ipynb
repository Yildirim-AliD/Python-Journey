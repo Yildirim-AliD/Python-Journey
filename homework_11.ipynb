{
 "cells": [
  {
   "cell_type": "code",
   "execution_count": 1,
   "id": "3ae819a8-3c71-48e7-97ec-14c6c130f7c0",
   "metadata": {},
   "outputs": [
    {
     "name": "stdin",
     "output_type": "stream",
     "text": [
      "Kaç adım sağa döndürmek istiyorsunuz?  3\n"
     ]
    },
    {
     "name": "stdout",
     "output_type": "stream",
     "text": [
      "Dönen dizi: [3, 4, 5, 1, 2]\n"
     ]
    }
   ],
   "source": [
    "def rotate_right(arr, steps):\n",
    "    size = len(arr)\n",
    "    steps = steps % size \n",
    "\n",
    "    for _ in range(steps):\n",
    "        last = arr[-1]\n",
    "        for i in range(size - 1, 0, -1):\n",
    "            arr[i] = arr[i - 1]\n",
    "        arr[0] = last\n",
    "\n",
    "    return arr\n",
    "\n",
    "if __name__ == \"__main__\":\n",
    "    arr = [1, 2, 3, 4, 5]\n",
    "    steps = int(input(\"Kaç adım sağa döndürmek istiyorsunuz? \"))\n",
    "    \n",
    "    rotated = rotate_right(arr, steps)\n",
    "    print(\"Dönen dizi:\", rotated)\n"
   ]
  },
  {
   "cell_type": "code",
   "execution_count": 3,
   "id": "9615897b-0fbf-4abe-b190-2cbe096987db",
   "metadata": {},
   "outputs": [
    {
     "name": "stdout",
     "output_type": "stream",
     "text": [
      "İlk tekrar eden eleman: 3\n"
     ]
    }
   ],
   "source": [
    "def find_first_duplicate(nums):\n",
    "    for i in range(len(nums)):\n",
    "        for j in range(i + 1, len(nums)):\n",
    "            if nums[i] == nums[j]:\n",
    "                return nums[i]\n",
    "    return None\n",
    "\n",
    "if __name__ == \"__main__\":\n",
    "    nums = [3, 1, 4, 2, 5, 3, 6, 2]\n",
    "    result = find_first_duplicate(nums)\n",
    "    \n",
    "    if result is not None:\n",
    "        print(\"İlk tekrar eden eleman:\", result)\n",
    "    else:\n",
    "        print(\"Tekrar eden eleman yok.\")\n"
   ]
  },
  {
   "cell_type": "code",
   "execution_count": null,
   "id": "a5b8f3a7-e503-442e-9584-a1ac52f60e3d",
   "metadata": {},
   "outputs": [],
   "source": []
  }
 ],
 "metadata": {
  "kernelspec": {
   "display_name": "Python 3 (ipykernel)",
   "language": "python",
   "name": "python3"
  },
  "language_info": {
   "codemirror_mode": {
    "name": "ipython",
    "version": 3
   },
   "file_extension": ".py",
   "mimetype": "text/x-python",
   "name": "python",
   "nbconvert_exporter": "python",
   "pygments_lexer": "ipython3",
   "version": "3.12.7"
  }
 },
 "nbformat": 4,
 "nbformat_minor": 5
}
