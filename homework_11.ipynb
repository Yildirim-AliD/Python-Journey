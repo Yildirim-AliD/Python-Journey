{
 "cells": [
  {
   "cell_type": "code",
   "execution_count": null,
   "id": "3ae819a8-3c71-48e7-97ec-14c6c130f7c0",
   "metadata": {},
   "outputs": [],
   "source": [
    "def rotate_right(arr, steps):\n",
    "    size = len(arr)\n",
    "    steps = steps % size \n",
    "\n",
    "    for _ in range(steps):\n",
    "        last = arr[-1]\n",
    "        for i in range(size - 1, 0, -1):\n",
    "            arr[i] = arr[i - 1]\n",
    "        arr[0] = last\n",
    "\n",
    "    return arr\n",
    "\n",
    "if __name__ == \"__main__\":\n",
    "    arr = [1, 2, 3, 4, 5]\n",
    "    steps = int(input(\"Kaç adım sağa döndürmek istiyorsunuz? \"))\n",
    "    \n",
    "    rotated = rotate_right(arr, steps)\n",
    "    print(\"Dönen dizi:\", rotated)\n"
   ]
  }
 ],
 "metadata": {
  "kernelspec": {
   "display_name": "Python 3 (ipykernel)",
   "language": "python",
   "name": "python3"
  },
  "language_info": {
   "codemirror_mode": {
    "name": "ipython",
    "version": 3
   },
   "file_extension": ".py",
   "mimetype": "text/x-python",
   "name": "python",
   "nbconvert_exporter": "python",
   "pygments_lexer": "ipython3",
   "version": "3.12.7"
  }
 },
 "nbformat": 4,
 "nbformat_minor": 5
}
