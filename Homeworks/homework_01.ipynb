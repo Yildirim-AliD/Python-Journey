{
 "cells": [
  {
   "cell_type": "code",
   "execution_count": 1,
   "id": "fae14ec5-8a40-4ba3-8212-0c66d8a85ddd",
   "metadata": {},
   "outputs": [],
   "source": [
    "# Multiply three numbers entered by the user and print the result using the format method."
   ]
  },
  {
   "cell_type": "code",
   "execution_count": null,
   "id": "f8da4c86-40ca-4d44-91ff-07ddbf12e376",
   "metadata": {},
   "outputs": [],
   "source": [
    "number1 = int(input(\"Enter the first number: \"))\n",
    "number2 = int(input(\"Enter the second number: \"))\n",
    "number3 = int(input(\"Enter the third number: \"))\n",
    "\n",
    "result = number1 * number2 * number3\n",
    "print(\"The result of {} * {} * {} is: {}\".format(number1, number2, number3, result))"
   ]
  },
  {
   "cell_type": "code",
   "execution_count": 5,
   "id": "fc4b05ae-a0cd-4e32-ae10-3724f1aa4953",
   "metadata": {},
   "outputs": [],
   "source": [
    "# Calculate the Body Mass Index (BMI) based on the weight and height provided by the user.\n",
    "# BMI Formula: BMI = Weight / (Height in meters * Height in meters)"
   ]
  },
  {
   "cell_type": "code",
   "execution_count": null,
   "id": "e4532e96-6ae4-4a20-87de-ce387c4156e9",
   "metadata": {},
   "outputs": [],
   "source": [
    "weight = float(input(\"Enter your weight (kg): \"))\n",
    "height = float(input(\"Enter your height (meters): \"))\n",
    "\n",
    "bmi = weight / (height ** 2)\n",
    "print(\"Your Body Mass Index (BMI) is: {:.2f}\".format(bmi))"
   ]
  },
  {
   "cell_type": "code",
   "execution_count": null,
   "id": "b56207d4-5a92-4b88-918f-0d531fa5cdf8",
   "metadata": {},
   "outputs": [],
   "source": [
    "# Get the fuel consumption per kilometer and the distance traveled by the vehicle from the user,\n",
    "# then calculate how much the driver needs to pay for the total fuel consumption."
   ]
  },
  {
   "cell_type": "code",
   "execution_count": null,
   "id": "d6e7b3bb-bce5-4891-a39f-89fb09a5f011",
   "metadata": {},
   "outputs": [],
   "source": [
    "fuel_per_km = float(input(\"Enter the fuel consumption per kilometer (liters/km): \"))\n",
    "distance = float(input(\"Enter the distance traveled (kilometers): \"))\n",
    "fuel_price = float(input(\"Enter the price of fuel per liter: \"))\n",
    "\n",
    "total_fuel = fuel_per_km * distance\n",
    "total_cost = total_fuel * fuel_price\n",
    "\n",
    "print(\"The total cost for the trip is: {:.2f}\".format(total_cost))"
   ]
  },
  {
   "cell_type": "code",
   "execution_count": null,
   "id": "795bf907-463e-4e7f-9369-98572cb97cc0",
   "metadata": {},
   "outputs": [],
   "source": [
    "# Get the user's first name, last name, and number, then print them line by line."
   ]
  },
  {
   "cell_type": "code",
   "execution_count": null,
   "id": "50e1d9b5-c5cc-4681-9706-79db4cfccb0d",
   "metadata": {},
   "outputs": [],
   "source": [
    "first_name = input(\"Enter your first name: \")\n",
    "last_name = input(\"Enter your last name: \")\n",
    "number = input(\"Enter your number: \")\n",
    "\n",
    "print(\"First Name:\", first_name)\n",
    "print(\"Last Name :\", last_name)\n",
    "print(\"Number    :\", number)"
   ]
  },
  {
   "cell_type": "code",
   "execution_count": null,
   "id": "d116d523-2850-4b70-b793-9f0930428c47",
   "metadata": {},
   "outputs": [],
   "source": [
    "# Ask the user for two numbers and swap their values."
   ]
  },
  {
   "cell_type": "code",
   "execution_count": null,
   "id": "b78dc5ed-e17e-4263-88be-34fe8f45c40d",
   "metadata": {},
   "outputs": [],
   "source": [
    "a = input(\"Enter the first number: \")\n",
    "b = input(\"Enter the second number: \")\n",
    "\n",
    "print(\"\\nBefore swapping:\")\n",
    "print(\"a =\", a)\n",
    "print(\"b =\", b)\n",
    "\n",
    "a, b = b, a\n",
    "\n",
    "print(\"\\nAfter swapping:\")\n",
    "print(\"a =\", a)\n",
    "print(\"b =\", b)"
   ]
  },
  {
   "cell_type": "code",
   "execution_count": null,
   "id": "e25c1f9b-ac1b-497d-b865-20ed60567fdb",
   "metadata": {},
   "outputs": [],
   "source": [
    "# Get the two perpendicular sides (a and b) of a right triangle from the user,\n",
    "# then calculate the length of the hypotenuse using the formula: c² = a² + b²"
   ]
  },
  {
   "cell_type": "code",
   "execution_count": 5,
   "id": "a9b513af-a08a-4ead-931f-381789202cbb",
   "metadata": {},
   "outputs": [
    {
     "name": "stdin",
     "output_type": "stream",
     "text": [
      "Enter side a:  3\n",
      "Enter side b:  4\n"
     ]
    },
    {
     "name": "stdout",
     "output_type": "stream",
     "text": [
      "The length of the hypotenuse is: 5.00\n"
     ]
    }
   ],
   "source": [
    "import math\n",
    "\n",
    "a = float(input(\"Enter side a: \"))\n",
    "b = float(input(\"Enter side b: \"))\n",
    "\n",
    "hypotenuse = math.sqrt(a**2 + b**2)\n",
    "\n",
    "print(\"The length of the hypotenuse is: {:.2f}\".format(hypotenuse))"
   ]
  }
 ],
 "metadata": {
  "kernelspec": {
   "display_name": "Python 3 (ipykernel)",
   "language": "python",
   "name": "python3"
  },
  "language_info": {
   "codemirror_mode": {
    "name": "ipython",
    "version": 3
   },
   "file_extension": ".py",
   "mimetype": "text/x-python",
   "name": "python",
   "nbconvert_exporter": "python",
   "pygments_lexer": "ipython3",
   "version": "3.12.7"
  }
 },
 "nbformat": 4,
 "nbformat_minor": 5
}
