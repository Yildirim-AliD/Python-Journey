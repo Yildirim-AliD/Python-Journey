{
 "cells": [
  {
   "cell_type": "code",
   "execution_count": 1,
   "id": "f96d17d4-a6dd-4cbb-a291-eaf5e8a7697f",
   "metadata": {},
   "outputs": [
    {
     "name": "stdin",
     "output_type": "stream",
     "text": [
      "1 ile 100 arasında tahmin yapın:  50\n"
     ]
    },
    {
     "name": "stdout",
     "output_type": "stream",
     "text": [
      "Daha küçük bir sayı girin.\n"
     ]
    },
    {
     "name": "stdin",
     "output_type": "stream",
     "text": [
      "1 ile 100 arasında tahmin yapın:  25\n"
     ]
    },
    {
     "name": "stdout",
     "output_type": "stream",
     "text": [
      "Daha büyük bir sayı girin.\n"
     ]
    },
    {
     "name": "stdin",
     "output_type": "stream",
     "text": [
      "1 ile 100 arasında tahmin yapın:  37\n"
     ]
    },
    {
     "name": "stdout",
     "output_type": "stream",
     "text": [
      "Daha küçük bir sayı girin.\n"
     ]
    },
    {
     "name": "stdin",
     "output_type": "stream",
     "text": [
      "1 ile 100 arasında tahmin yapın:  31\n"
     ]
    },
    {
     "name": "stdout",
     "output_type": "stream",
     "text": [
      "Daha küçük bir sayı girin.\n"
     ]
    },
    {
     "name": "stdin",
     "output_type": "stream",
     "text": [
      "1 ile 100 arasında tahmin yapın:  27\n"
     ]
    },
    {
     "name": "stdout",
     "output_type": "stream",
     "text": [
      "Tebrikler! 5 denemede buldunuz.\n"
     ]
    }
   ],
   "source": [
    "import random\n",
    "\n",
    "def tahmin_oyunu():\n",
    "    hedef = random.randint(1, 100)\n",
    "    deneme = 0\n",
    "\n",
    "    while True:\n",
    "        tahmin = int(input(\"1 ile 100 arasında tahmin yapın: \"))\n",
    "        deneme += 1\n",
    "\n",
    "        if tahmin < hedef:\n",
    "            print(\"Daha büyük bir sayı girin.\")\n",
    "        elif tahmin > hedef:\n",
    "            print(\"Daha küçük bir sayı girin.\")\n",
    "        else:\n",
    "            print(f\"Tebrikler! {deneme} denemede buldunuz.\")\n",
    "            break\n",
    "\n",
    "tahmin_oyunu()\n"
   ]
  },
  {
   "cell_type": "code",
   "execution_count": 13,
   "id": "79cf60b8-bc66-40fd-998d-ac4815dc5038",
   "metadata": {},
   "outputs": [
    {
     "name": "stdin",
     "output_type": "stream",
     "text": [
      "Bir kelime girin:  yıldırımırıdlıy\n"
     ]
    },
    {
     "name": "stdout",
     "output_type": "stream",
     "text": [
      "Bu bir palindrom kelimedir.\n"
     ]
    }
   ],
   "source": [
    "def is_palindrome(word):\n",
    "    word = word.lower()\n",
    "    return word == word[::-1]\n",
    "\n",
    "kelime = input(\"Bir kelime girin: \")\n",
    "if is_palindrome(kelime):\n",
    "    print(\"Bu bir palindrom kelimedir.\")\n",
    "else:\n",
    "    print(\"Bu bir palindrom değildir.\")\n"
   ]
  },
  {
   "cell_type": "code",
   "execution_count": null,
   "id": "1abb3145-006e-4de9-a7bf-716617f09436",
   "metadata": {},
   "outputs": [],
   "source": []
  }
 ],
 "metadata": {
  "kernelspec": {
   "display_name": "Python 3 (ipykernel)",
   "language": "python",
   "name": "python3"
  },
  "language_info": {
   "codemirror_mode": {
    "name": "ipython",
    "version": 3
   },
   "file_extension": ".py",
   "mimetype": "text/x-python",
   "name": "python",
   "nbconvert_exporter": "python",
   "pygments_lexer": "ipython3",
   "version": "3.12.7"
  }
 },
 "nbformat": 4,
 "nbformat_minor": 5
}
