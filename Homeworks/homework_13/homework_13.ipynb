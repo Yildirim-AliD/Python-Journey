{
 "cells": [
  {
   "cell_type": "code",
   "execution_count": 1,
   "id": "ca256e78-6a28-4c1f-b846-7f816c191106",
   "metadata": {},
   "outputs": [
    {
     "name": "stdout",
     "output_type": "stream",
     "text": [
      "P : 1\n",
      "r : 6\n",
      "o : 1\n",
      "g : 1\n",
      "a : 5\n",
      "m : 2\n",
      "l : 4\n",
      "Ö : 1\n",
      "d : 1\n",
      "e : 8\n",
      "v : 3\n",
      "i : 5\n",
      "İ : 1\n",
      "S : 1\n",
      "y : 2\n",
      "V : 1\n",
      "Y : 1\n",
      "p : 2\n",
      "ı : 2\n",
      "O : 1\n",
      "b : 2\n",
      "j : 1\n",
      "n : 1\n"
     ]
    }
   ],
   "source": [
    "\"\"\"Suppose you have a long string like this:\n",
    "\n",
    "    \"ProgramlamaÖdeviİleriSeviyeVeriYapılarıveObjeleripynb\"\n",
    "\n",
    "Try to find the frequency of each letter (how many times each letter appears in the string).\"\"\"\n",
    "s = \"ProgramlamaÖdeviİleriSeviyeVeriYapılarıveObjeleripynb\"\n",
    "frequency = {}\n",
    "\n",
    "for char in s:\n",
    "    if char in frequency:\n",
    "        frequency[char] += 1\n",
    "    else:\n",
    "        frequency[char] = 1\n",
    "\n",
    "for key, value in frequency.items():\n",
    "    print(key, \":\", value)"
   ]
  },
  {
   "cell_type": "code",
   "execution_count": 3,
   "id": "bfd1b66b-7395-4323-b41b-cb8d407a9a13",
   "metadata": {},
   "outputs": [
    {
     "name": "stdout",
     "output_type": "stream",
     "text": [
      "MUSTAFAKEMAL\n"
     ]
    }
   ],
   "source": [
    "\"\"\"Create a file named \"şiir.txt\" and write the following lines into it:\n",
    "\n",
    "css\n",
    "Kopyala\n",
    "Düzenle\n",
    "Memlekete sis çökmüş bir gece\n",
    "Usulca yanağıma sen düşüyorsun\n",
    "Sabah saat dokuzu beş geçe\n",
    "Terk edip bizleri gidiyorsun\n",
    "Ayrılık bu kadar yakmamıştı içimizi\n",
    "Farkında mısın bilmiyorum\n",
    "Aldın beraberinde cumhuriyetimizi\n",
    "Korkunç bir veda, sararmıştı her yer\n",
    "Ellerini uzat tutmak istiyoruz\n",
    "Masmavi gözleri kaybetmiş çocuk\n",
    "Aldı bir sabah ruhumuzu\n",
    "Lakin nasıl bölmesin yokluğun uykumuzu\n",
    "Then, read each line of this file, concatenate the first letters of each line to form a string, and print this string.\"\"\"\n",
    "first_letters = \"\"\n",
    "\n",
    "\n",
    "with open(\"poem.txt\", \"r\", encoding=\"utf-8\") as file:\n",
    "    for line in file:\n",
    "        line = line.strip()  \n",
    "        if line:  \n",
    "            first_letters += line[0] \n",
    "\n",
    "print(first_letters)\n"
   ]
  },
  {
   "cell_type": "code",
   "execution_count": 7,
   "id": "1fa6f59d-6b32-4681-a994-fed6652d8bef",
   "metadata": {},
   "outputs": [
    {
     "name": "stdout",
     "output_type": "stream",
     "text": [
      "coskun.m.murat@gmail.com\n",
      "example@xyz.com\n",
      "kerim@yahoo.com\n",
      "test.email@domain.com\n",
      "good.email@domain.com\n",
      "info@web-page.com\n",
      "user@company_name.com\n",
      "email_with_space@domain.com\n"
     ]
    }
   ],
   "source": [
    "\"\"\"You have a file named \"mailler.txt\" containing emails and some text.\n",
    "\n",
    "Read each line of this file and print only the ones that follow the correct email format.\n",
    "\n",
    "Example file content:\n",
    "\n",
    "graphql\n",
    "Kopyala\n",
    "Düzenle\n",
    "coskun.m.murat@gmail.com\n",
    "example@xyz.com\n",
    "mustafa.com\n",
    "mustafa@gmail\n",
    "kerim@yahoo.com\n",
    "Hint: You can use the endswith and find methods in strings to help you identify valid emails.\"\"\"\n",
    "with open(\"emails.txt\", \"r\", encoding=\"utf-8\") as file:\n",
    "    for line in file:\n",
    "        line = line.strip() \n",
    "        if line.endswith(\".com\") and \"@\" in line:\n",
    "            if line.find(\"@\") < line.rfind(\".\"):\n",
    "                print(line)"
   ]
  },
  {
   "cell_type": "code",
   "execution_count": 9,
   "id": "47bc08aa-ebf9-4b4b-98b3-d840fb962198",
   "metadata": {},
   "outputs": [
    {
     "name": "stdout",
     "output_type": "stream",
     "text": [
      "Ezgi Dağdeviren\n",
      "Kemal Atatürk\n",
      "Kerim Yılmaz\n",
      "Merve Polat\n",
      "Tarık Öztürk\n",
      "İlkay Dikmen\n",
      "Şükran Kaya\n"
     ]
    }
   ],
   "source": [
    "\"\"\"You have two lists: one containing first names and the other containing last names.\n",
    "\n",
    "Combine the first and last names, and print the full names sorted alphabetically by the first names.\n",
    "\n",
    "First names → [\"Kerim\", \"Tarık\", \"Ezgi\", \"Kemal\", \"İlkay\", \"Şükran\", \"Merve\"]\n",
    "Last names → [\"Yılmaz\", \"Öztürk\", \"Dağdeviren\", \"Atatürk\", \"Dikmen\", \"Kaya\", \"Polat\"]\"\"\"\n",
    "\n",
    "\n",
    "first_names = [\"Kerim\", \"Tarık\", \"Ezgi\", \"Kemal\", \"İlkay\", \"Şükran\", \"Merve\"]\n",
    "last_names = [\"Yılmaz\", \"Öztürk\", \"Dağdeviren\", \"Atatürk\", \"Dikmen\", \"Kaya\", \"Polat\"]\n",
    "\n",
    "name_list = list(zip(first_names, last_names))\n",
    "\n",
    "name_list.sort()\n",
    "\n",
    "for first, last in name_list:\n",
    "    print(first, last)\n"
   ]
  },
  {
   "cell_type": "code",
   "execution_count": null,
   "id": "d417b932-0493-43cb-8cb2-7ab7a2f2776c",
   "metadata": {},
   "outputs": [],
   "source": []
  }
 ],
 "metadata": {
  "kernelspec": {
   "display_name": "Python 3 (ipykernel)",
   "language": "python",
   "name": "python3"
  },
  "language_info": {
   "codemirror_mode": {
    "name": "ipython",
    "version": 3
   },
   "file_extension": ".py",
   "mimetype": "text/x-python",
   "name": "python",
   "nbconvert_exporter": "python",
   "pygments_lexer": "ipython3",
   "version": "3.12.7"
  }
 },
 "nbformat": 4,
 "nbformat_minor": 5
}
