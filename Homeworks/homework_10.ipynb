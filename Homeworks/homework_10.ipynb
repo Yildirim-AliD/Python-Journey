{
 "cells": [
  {
   "cell_type": "code",
   "execution_count": 3,
   "id": "8f88fea0-7e7a-4136-8e14-3727d928ff09",
   "metadata": {},
   "outputs": [
    {
     "name": "stdout",
     "output_type": "stream",
     "text": [
      "[0, 1]\n",
      "[1, 2]\n",
      "[0, 1]\n"
     ]
    }
   ],
   "source": [
    "def two_sum(nums, target):\n",
    "    num_map = {}  \n",
    "\n",
    "    for i, num in enumerate(nums):\n",
    "        complement = target - num\n",
    "        if complement in num_map:\n",
    "            return [num_map[complement], i]\n",
    "        num_map[num] = i\n",
    "\n",
    "print(two_sum([2, 7, 11, 15], 9))  \n",
    "print(two_sum([3, 2, 4], 6))        \n",
    "print(two_sum([3, 3], 6))           "
   ]
  },
  {
   "cell_type": "code",
   "execution_count": 5,
   "id": "8b7667c5-ef66-4710-aa9a-19bace9cd249",
   "metadata": {},
   "outputs": [
    {
     "name": "stdout",
     "output_type": "stream",
     "text": [
      "[1, 2]\n",
      "[2, 3]\n",
      "[2, 3]\n"
     ]
    }
   ],
   "source": [
    "def closest_two_sum(nums, target):\n",
    "    seen = {}\n",
    "    closest = float('inf')\n",
    "    result = []\n",
    "\n",
    "    for i in range(len(nums)):\n",
    "        complement = target - nums[i]\n",
    "        if complement in seen:\n",
    "            return [seen[complement], i] \n",
    "        for val, idx in seen.items():\n",
    "            total = nums[i] + val\n",
    "            if abs(target - total) < abs(target - closest):\n",
    "                closest = total\n",
    "                result = [idx, i]\n",
    "        seen[nums[i]] = i\n",
    "\n",
    "    return result\n",
    "\n",
    "print(closest_two_sum([1, 8, 12, 5], 20))   \n",
    "print(closest_two_sum([1, 2, 3, 4], 10))    \n",
    "print(closest_two_sum([9, 1, 2, 4], 6))    \n"
   ]
  },
  {
   "cell_type": "code",
   "execution_count": null,
   "id": "53dd0d12-df98-4f65-b2e4-5758b2422c8b",
   "metadata": {},
   "outputs": [],
   "source": []
  }
 ],
 "metadata": {
  "kernelspec": {
   "display_name": "Python 3 (ipykernel)",
   "language": "python",
   "name": "python3"
  },
  "language_info": {
   "codemirror_mode": {
    "name": "ipython",
    "version": 3
   },
   "file_extension": ".py",
   "mimetype": "text/x-python",
   "name": "python",
   "nbconvert_exporter": "python",
   "pygments_lexer": "ipython3",
   "version": "3.12.7"
  }
 },
 "nbformat": 4,
 "nbformat_minor": 5
}
