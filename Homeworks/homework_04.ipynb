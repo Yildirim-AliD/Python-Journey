{
 "cells": [
  {
   "cell_type": "code",
   "execution_count": 7,
   "id": "de4549e4-66b2-499f-bf3a-d45597f17755",
   "metadata": {},
   "outputs": [
    {
     "name": "stdout",
     "output_type": "stream",
     "text": [
      "6 is a perfect number\n",
      "28 is a perfect number\n",
      "496 is a perfect number\n"
     ]
    }
   ],
   "source": [
    "#Print all the perfect numbers between 1 and 1000.\n",
    "#Write a function that returns whether a number is a perfect number or not\n",
    "\n",
    "def is_perfect(num):\n",
    "    sum_of_divisors = 0\n",
    "    for i in range(1, int((num/2) + 1)):\n",
    "        if num % i == 0:\n",
    "            sum_of_divisors += i\n",
    "    return sum_of_divisors == num\n",
    "\n",
    "for number in range(1, 1001):\n",
    "    if is_perfect(number):\n",
    "        print(f\"{number} is a perfect number\")"
   ]
  },
  {
   "cell_type": "code",
   "execution_count": 23,
   "id": "b4844a95-20f3-4f12-8f2e-fc03279a8980",
   "metadata": {},
   "outputs": [
    {
     "name": "stdin",
     "output_type": "stream",
     "text": [
      "Number-1: 12\n",
      "Number-2: 48\n"
     ]
    },
    {
     "name": "stdout",
     "output_type": "stream",
     "text": [
      "GCD: 12\n"
     ]
    }
   ],
   "source": [
    "#Write a function that takes two numbers from the user and returns their Greatest Common Divisor (GCD).\n",
    "def f_gcd(num1,num2):\n",
    "    \n",
    "    i = 1\n",
    "    gcd = 1\n",
    "    while (i <= num1 and i <= num2 ):\n",
    "\n",
    "        if ( not (num1 % i) and not (num2 % i)):\n",
    "            gcd = i\n",
    "        i += 1\n",
    "    return gcd\n",
    "num1 = int(input(\"Number-1:\"))\n",
    "num2 = int(input(\"Number-2:\"))\n",
    "\n",
    "print(\"GCD:\",f_gcd(num1,num2))"
   ]
  },
  {
   "cell_type": "code",
   "execution_count": 25,
   "id": "33ac54a2-ced3-4ab9-82ca-821fdc0864c0",
   "metadata": {},
   "outputs": [
    {
     "name": "stdin",
     "output_type": "stream",
     "text": [
      "Number-1: 12\n",
      "Number-2: 48\n"
     ]
    },
    {
     "name": "stdout",
     "output_type": "stream",
     "text": [
      "LCM: 48\n"
     ]
    }
   ],
   "source": [
    "#Write a function that takes two numbers from the user and returns their Least Common Multiple (LCM).\n",
    "def f_lcm(num1,num2):\n",
    "    \n",
    "    i = 2\n",
    "    lcm = 1\n",
    "    while True:\n",
    "        if (num1 % i == 0 and num2 % i == 0):\n",
    "            lcm *= i\n",
    "\n",
    "            num1 //= i\n",
    "            num2 //= i\n",
    "\n",
    "\n",
    "        elif (num1 % i ==  0 and num2 % i != 0):\n",
    "            lcm *= i\n",
    "\n",
    "            num1 //= i\n",
    "\n",
    "\n",
    "        elif (num1 % i != 0 and num2 % i == 0):\n",
    "            lcm *= i\n",
    "\n",
    "            num2 //= i\n",
    "        else:\n",
    "            i += 1\n",
    "        if (num1 == 1 and num2 == 1):\n",
    "            break\n",
    "    return lcm\n",
    "\n",
    "num1 = int(input(\"Number-1:\"))\n",
    "num2 = int(input(\"Number-2:\"))\n",
    "\n",
    "print(\"LCM:\",f_lcm(num1,num2))\n"
   ]
  },
  {
   "cell_type": "code",
   "execution_count": 15,
   "id": "6fa26864-8ae9-4396-acb5-227545dd0ae5",
   "metadata": {},
   "outputs": [
    {
     "name": "stdin",
     "output_type": "stream",
     "text": [
      "Enter a two-digit number:  31\n"
     ]
    },
    {
     "name": "stdout",
     "output_type": "stream",
     "text": [
      "In words: thirty one\n"
     ]
    }
   ],
   "source": [
    "#Write a function that takes a two-digit number from the user and returns its pronunciation in words.\n",
    "def number_to_words(number):\n",
    "    ones = [\"\", \"one\", \"two\", \"three\", \"four\", \"five\", \"six\", \"seven\", \"eight\", \"nine\"]\n",
    "    teens = [\"ten\", \"eleven\", \"twelve\", \"thirteen\", \"fourteen\", \"fifteen\", \n",
    "             \"sixteen\", \"seventeen\", \"eighteen\", \"nineteen\"]\n",
    "    tens = [\"\", \"\", \"twenty\", \"thirty\", \"forty\", \"fifty\", \n",
    "            \"sixty\", \"seventy\", \"eighty\", \"ninety\"]\n",
    "\n",
    "    if 10 <= number < 20:\n",
    "        return teens[number - 10]\n",
    "    elif 20 <= number <= 99:\n",
    "        ten_part = number // 10\n",
    "        one_part = number % 10\n",
    "        return f\"{tens[ten_part]} {ones[one_part]}\".strip()\n",
    "    elif 1 <= number < 10:\n",
    "        return ones[number]\n",
    "    else:\n",
    "        return \"Please enter a two-digit number.\"\n",
    "\n",
    "num = int(input(\"Enter a two-digit number: \"))\n",
    "print(\"In words:\", number_to_words(num))\n"
   ]
  },
  {
   "cell_type": "code",
   "execution_count": null,
   "id": "5a463d9e-8202-4ca6-9a8c-120885b1c0a3",
   "metadata": {},
   "outputs": [],
   "source": [
    "#Write a function that prints the Pythagorean triples (a ≤ 100, b ≤ 100) from the numbers between 1 and 100\n",
    "def pythagorean(limit):\n",
    "    for a in range(1, limit + 1):\n",
    "        for b in range(a, limit + 1): \n",
    "            c_square = a**2 + b**2\n",
    "            c = int(c_square ** 0.5)\n",
    "            if c <= limit and c**2 == c_square:\n",
    "                print(f\"{a}, {b}, {c}\")\n",
    "\n",
    "pythagorean(100)\n"
   ]
  },
  {
   "cell_type": "code",
   "execution_count": null,
   "id": "6d77384b-ae42-4470-a9e8-c78cd63613fa",
   "metadata": {},
   "outputs": [],
   "source": []
  }
 ],
 "metadata": {
  "kernelspec": {
   "display_name": "Python 3 (ipykernel)",
   "language": "python",
   "name": "python3"
  },
  "language_info": {
   "codemirror_mode": {
    "name": "ipython",
    "version": 3
   },
   "file_extension": ".py",
   "mimetype": "text/x-python",
   "name": "python",
   "nbconvert_exporter": "python",
   "pygments_lexer": "ipython3",
   "version": "3.12.7"
  }
 },
 "nbformat": 4,
 "nbformat_minor": 5
}
