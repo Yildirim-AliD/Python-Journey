{
 "cells": [
  {
   "cell_type": "code",
   "execution_count": 1,
   "id": "ade63882-6861-4a4a-a40a-60b9612fd4e9",
   "metadata": {},
   "outputs": [
    {
     "name": "stdout",
     "output_type": "stream",
     "text": [
      "[12, 30, 30, 9]\n"
     ]
    }
   ],
   "source": [
    "\"\"\"Question 1\n",
    "Suppose you have a list of number pairs representing the sides of rectangles.\n",
    "\n",
    "    [(3,4), (10,3), (5,6), (1,9)]\n",
    "\n",
    "Now, write a function that calculates the area of a rectangle based on its side lengths, and apply this function to each element in the list using the map() function to print the following list:\n",
    "\n",
    "    [12, 30, 30, 9]\n",
    "\n",
    "Note: Try to use the map() function.\"\"\"\n",
    "def calculate_area(pair):\n",
    "    return pair[0] * pair[1]\n",
    "\n",
    "rectangles = [(3, 4), (10, 3), (5, 6), (1, 9)]\n",
    "\n",
    "print(list(map(calculate_area, rectangles)))\n"
   ]
  },
  {
   "cell_type": "code",
   "execution_count": 3,
   "id": "1c720557-4c24-484c-afbb-cea919c4dc28",
   "metadata": {},
   "outputs": [
    {
     "name": "stdout",
     "output_type": "stream",
     "text": [
      "[(3, 4, 5), (6, 8, 10)]\n"
     ]
    }
   ],
   "source": [
    "\"\"\"Suppose you have a list where each element is a tuple of 3 numbers.\n",
    "\n",
    "    [(3, 4, 5), (6, 8, 10), (3, 10, 7)]\n",
    "\n",
    "Now, write a function that determines whether these sides can form a valid triangle based on their lengths, and use it to print a list containing only the tuples that represent valid triangles.\n",
    "\n",
    "    [(3, 4, 5), (6, 8, 10)]\n",
    "\n",
    "Note: Try to use the filter() function.\"\"\"\n",
    "def is_triangle(sides):\n",
    "    a, b, c = sides\n",
    "    return (a + b > c) and (a + c > b) and (b + c > a)\n",
    "\n",
    "triangles = [(3, 4, 5), (6, 8, 10), (3, 10, 7)]\n",
    "\n",
    "print(list(filter(is_triangle, triangles)))\n"
   ]
  },
  {
   "cell_type": "code",
   "execution_count": 5,
   "id": "2d177d9d-b870-4f68-8f54-58dff73c5a5d",
   "metadata": {},
   "outputs": [
    {
     "name": "stdout",
     "output_type": "stream",
     "text": [
      "30\n"
     ]
    }
   ],
   "source": [
    "\"\"\"Suppose you have the following list:\n",
    "\n",
    "    [1, 2, 3, 4, 5, 6, 7, 8, 9, 10]\n",
    "\n",
    "Write a function that prints the sum of the even numbers in this list.\"\"\"\n",
    "from functools import reduce\n",
    "\n",
    "numbers = [1, 2, 3, 4, 5, 6, 7, 8, 9, 10]\n",
    "\n",
    "evens = list(filter(lambda x: x % 2 == 0, numbers))\n",
    "\n",
    "print(reduce(lambda x, y: x + y, evens))\n"
   ]
  },
  {
   "cell_type": "code",
   "execution_count": 7,
   "id": "b7faf308-4348-4186-ac6b-f046633149bf",
   "metadata": {},
   "outputs": [
    {
     "name": "stdout",
     "output_type": "stream",
     "text": [
      "Kerim Yılmaz\n",
      "Tarık Öztürk\n",
      "Ezgi Dağdeviren\n",
      "Kemal Atatürk\n",
      "İlkay Dikmen\n",
      "Şükran Kaya\n",
      "Merve Polat\n"
     ]
    }
   ],
   "source": [
    "\"\"\"You have two lists: one containing first names and the other containing last names.\n",
    "\n",
    "    first_names → [\"Kerim\", \"Tarık\", \"Ezgi\", \"Kemal\", \"İlkay\", \"Şükran\", \"Merve\"]\n",
    "    last_names → [\"Yılmaz\", \"Öztürk\", \"Dağdeviren\", \"Atatürk\", \"Dikmen\", \"Kaya\", \"Polat\"]\n",
    "\n",
    "Match the first names with the last names in order, and print them line by line.\n",
    "\n",
    "Note: Try to use the zip() function.\"\"\"\n",
    "first_names = [\"Kerim\", \"Tarık\", \"Ezgi\", \"Kemal\", \"İlkay\", \"Şükran\", \"Merve\"]\n",
    "\n",
    "last_names = [\"Yılmaz\", \"Öztürk\", \"Dağdeviren\", \"Atatürk\", \"Dikmen\", \"Kaya\", \"Polat\"]\n",
    "\n",
    "for first, last in zip(first_names, last_names):\n",
    "    print(first, last)"
   ]
  },
  {
   "cell_type": "code",
   "execution_count": null,
   "id": "aba3d422-ec36-4b79-b3a9-1c5e4b22d9cc",
   "metadata": {},
   "outputs": [],
   "source": []
  }
 ],
 "metadata": {
  "kernelspec": {
   "display_name": "Python 3 (ipykernel)",
   "language": "python",
   "name": "python3"
  },
  "language_info": {
   "codemirror_mode": {
    "name": "ipython",
    "version": 3
   },
   "file_extension": ".py",
   "mimetype": "text/x-python",
   "name": "python",
   "nbconvert_exporter": "python",
   "pygments_lexer": "ipython3",
   "version": "3.12.7"
  }
 },
 "nbformat": 4,
 "nbformat_minor": 5
}
