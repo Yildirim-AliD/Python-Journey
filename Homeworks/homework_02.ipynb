{
 "cells": [
  {
   "cell_type": "code",
   "execution_count": 1,
   "id": "c30c0ad2-0485-4b5c-bb4d-a6bcdd105c29",
   "metadata": {},
   "outputs": [],
   "source": [
    "# Calculate the Body Mass Index (BMI) using the user's weight and height,\n",
    "# then print a message based on the following classification:\n",
    "#\n",
    "# BMI < 18.5        -> Underweight\n",
    "# 18.5 <= BMI < 25  -> Normal\n",
    "# 25 <= BMI < 30    -> Overweight\n",
    "# BMI >= 30         -> Obese"
   ]
  },
  {
   "cell_type": "code",
   "execution_count": null,
   "id": "d850a622-3284-4c63-be88-36147394bf71",
   "metadata": {},
   "outputs": [],
   "source": [
    "weight = float(input(\"Enter your weight (kg): \"))\n",
    "height = float(input(\"Enter your height (m): \"))\n",
    "\n",
    "bmi = weight / (height ** 2)\n",
    "\n",
    "print(\"Your BMI is: {:.2f}\".format(bmi))\n",
    "\n",
    "if bmi < 18.5:\n",
    "    print(\"Status: Underweight\")\n",
    "elif 18.5 <= bmi < 25:\n",
    "    print(\"Status: Normal\")\n",
    "elif 25 <= bmi < 30:\n",
    "    print(\"Status: Overweight\")\n",
    "else:\n",
    "    print(\"Status: Obese\")"
   ]
  },
  {
   "cell_type": "code",
   "execution_count": 5,
   "id": "f4a9383b-9000-4c6b-9f8f-5271edbc7c5d",
   "metadata": {},
   "outputs": [],
   "source": [
    "# Get three numbers from the user and print the largest number."
   ]
  },
  {
   "cell_type": "code",
   "execution_count": null,
   "id": "ffb29f44-f931-431b-8e9d-dfc323e88e8b",
   "metadata": {},
   "outputs": [],
   "source": [
    "num1 = float(input(\"Enter the first number: \"))\n",
    "num2 = float(input(\"Enter the second number: \"))\n",
    "num3 = float(input(\"Enter the third number: \"))\n",
    "\n",
    "largest = max(num1, num2, num3)\n",
    "\n",
    "print(\"The largest number is:\", largest)"
   ]
  },
  {
   "cell_type": "code",
   "execution_count": 9,
   "id": "8ff7180a-c63c-4400-9f61-c584c3eaa581",
   "metadata": {},
   "outputs": [],
   "source": [
    "# Calculate the letter grade based on the user's scores for Exam1, Exam22, and Final exams,\n",
    "# where:\n",
    "# Exam1 affects 30% of the total grade\n",
    "# Exam2 affects 30% of the total grade\n",
    "# Final affects 40% of the total grade\n",
    "#\n",
    "# Then print the corresponding letter grade based on the total score:\n",
    "#\n",
    "# Total >= 90   -> AA\n",
    "# Total >= 85   -> BA\n",
    "# Total >= 80   -> BB\n",
    "# Total >= 75   -> CB\n",
    "# Total >= 70   -> CC\n",
    "# Total >= 65   -> DC\n",
    "# Total >= 60   -> DD\n",
    "# Total >= 55   -> FD\n",
    "# Total < 55    -> FF"
   ]
  },
  {
   "cell_type": "code",
   "execution_count": null,
   "id": "ef3929f2-814e-4491-946a-e050f76b937c",
   "metadata": {},
   "outputs": [],
   "source": [
    "exam1 = float(input(\"Enter Vize1 score: \"))\n",
    "exam2 = float(input(\"Enter Vize2 score: \"))\n",
    "final = float(input(\"Enter Final score: \"))\n",
    "\n",
    "total_score = (exam1 * 0.30) + (exam2 * 0.30) + (final * 0.40)\n",
    "\n",
    "if total_score >= 90:\n",
    "    grade = \"AA\"\n",
    "elif total_score >= 85:\n",
    "    grade = \"BA\"\n",
    "elif total_score >= 80:\n",
    "    grade = \"BB\"\n",
    "elif total_score >= 75:\n",
    "    grade = \"CB\"\n",
    "elif total_score >= 70:\n",
    "    grade = \"CC\"\n",
    "elif total_score >= 65:\n",
    "    grade = \"DC\"\n",
    "elif total_score >= 60:\n",
    "    grade = \"DD\"\n",
    "elif total_score >= 55:\n",
    "    grade = \"FD\"\n",
    "else:\n",
    "    grade = \"FF\"\n",
    "\n",
    "print(f\"Total Score: {total_score:.2f}\")\n",
    "print(f\"Your grade: {grade}\")"
   ]
  },
  {
   "cell_type": "code",
   "execution_count": 11,
   "id": "4fa29d22-c077-46ce-9d0d-3f195bfae8b8",
   "metadata": {},
   "outputs": [],
   "source": [
    "# First, ask the user if they want to calculate the type of a triangle or a quadrilateral.\n",
    "# If the user chooses \"Quadrilateral\", ask for 4 sides and determine if it's a square, rectangle, or general quadrilateral.\n",
    "# If the user chooses \"Triangle\", ask for 3 sides and determine if it's an isosceles, equilateral, or general triangle.\n",
    "# If the sides do not form a valid triangle, print \"Not a valid triangle\"."
   ]
  },
  {
   "cell_type": "code",
   "execution_count": null,
   "id": "d39db212-4dee-4126-a455-a8ebab181f36",
   "metadata": {},
   "outputs": [],
   "source": [
    "shape_type = input(\"Do you want to calculate a 'Triangle' or 'Quadrilateral'? \").lower()\n",
    "\n",
    "if shape_type == \"quadrilateral\":\n",
    "    a = float(input(\"Enter the first side: \"))\n",
    "    b = float(input(\"Enter the second side: \"))\n",
    "    c = float(input(\"Enter the third side: \"))\n",
    "    d = float(input(\"Enter the fourth side: \"))\n",
    "    \n",
    "    if a == b == c == d:\n",
    "        print(\"This is a Square.\")\n",
    "    elif a == c and b == d:\n",
    "        print(\"This is a Rectangle.\")\n",
    "    else:\n",
    "        print(\"This is a General Quadrilateral.\")\n",
    "\n",
    "elif shape_type == \"triangle\":\n",
    "    x = float(input(\"Enter the first side: \"))\n",
    "    y = float(input(\"Enter the second side: \"))\n",
    "    z = float(input(\"Enter the third side: \"))\n",
    "\n",
    "    if x + y > z and x + z > y and y + z > x:\n",
    "        if x == y == z:\n",
    "            print(\"This is an Equilateral Triangle.\")\n",
    "        elif x == y or y == z or x == z:\n",
    "            print(\"This is an Isosceles Triangle.\")\n",
    "        else:\n",
    "            print(\"This is a Scalene Triangle.\")\n",
    "    else:\n",
    "        print(\"Not a valid triangle.\")\n",
    "else:\n",
    "    print(\"Invalid shape type. Please choose either 'Triangle' or 'Quadrilateral'.\")"
   ]
  },
  {
   "cell_type": "code",
   "execution_count": null,
   "id": "473fd1b6-e9b6-4f77-9556-023eb4887be8",
   "metadata": {},
   "outputs": [],
   "source": []
  }
 ],
 "metadata": {
  "kernelspec": {
   "display_name": "Python 3 (ipykernel)",
   "language": "python",
   "name": "python3"
  },
  "language_info": {
   "codemirror_mode": {
    "name": "ipython",
    "version": 3
   },
   "file_extension": ".py",
   "mimetype": "text/x-python",
   "name": "python",
   "nbconvert_exporter": "python",
   "pygments_lexer": "ipython3",
   "version": "3.12.7"
  }
 },
 "nbformat": 4,
 "nbformat_minor": 5
}
