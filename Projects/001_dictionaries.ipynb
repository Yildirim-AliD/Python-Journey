{
 "cells": [
  {
   "cell_type": "code",
   "execution_count": 21,
   "id": "c94f9325-2a89-4c20-acc5-657abd4dcab9",
   "metadata": {},
   "outputs": [
    {
     "name": "stdout",
     "output_type": "stream",
     "text": [
      "123-456-7890\n",
      "john doe\n",
      "john@example.com\n",
      "{'name': 'john doe', 'phone': '980-345-868', 'email': 'john@example.com'}\n",
      "name : john doe\n",
      "phone : 980-345-868\n"
     ]
    }
   ],
   "source": [
    "my_dict = {\n",
    "    \"key1\": \"value1\",\n",
    "    \"key2\": \"value2\",\n",
    "    \"key3\": \"value3\"\n",
    "}\n",
    "contact = {\n",
    "    \"name\": \"john doe\",\n",
    "    \"phone\": \"123-456-7890\",\n",
    "    \"email\": \"john@example.com\"\n",
    "}\n",
    "print(contact[\"phone\"])\n",
    "print(contact[\"name\"])\n",
    "print(contact.get(\"email\"))\n",
    "contact[\"phone\"] = \"980-345-868\"\n",
    "print(contact)\n",
    "del contact[\"email\"]\n",
    "\n",
    "for key,value in contact.items():\n",
    "    print(f\"{key} : {value}\")"
   ]
  },
  {
   "cell_type": "code",
   "execution_count": null,
   "id": "e0292fb7-7fc4-4c3f-a3e2-bafb9b04e69f",
   "metadata": {},
   "outputs": [
    {
     "name": "stdout",
     "output_type": "stream",
     "text": [
      "\n",
      "---Contact Book Menu---\n",
      "1.Add Contact\n",
      "2.View Contacts\n",
      "3. Search Contact\n",
      "4.Edit Contact\n",
      "5.Delete Contact\n",
      "6.Exit\n"
     ]
    }
   ],
   "source": [
    "#Contact Book\n",
    "contacts = {}\n",
    "\n",
    "def show_menu():\n",
    "    print(\"\\n---Contact Book Menu---\")\n",
    "    print(\"1.Add Contact\")\n",
    "    print(\"2.View Contacts\")\n",
    "    print(\"3. Search Contact\")\n",
    "    print(\"4.Edit Contact\")\n",
    "    print(\"5.Delete Contact\")\n",
    "    print(\"6.Exit\")\n",
    "\n",
    "def add_contact():\n",
    "    name = input(\"Enter contact name: \")\n",
    "    phone = input(\"Enter contact number: \")\n",
    "    email = input(\"Enter contact email: \")\n",
    "    contacts[name] = {\"phone\": phone,\"email\": email}\n",
    "    print(f\"Contact {name} has been added to your contact book successfully!!\")\n",
    "\n",
    "def view_contacts():\n",
    "    if contacts:\n",
    "        print(\"\\n---Contact List----\")\n",
    "        for name,details in contacts.items():\n",
    "            print(f\"Name: {name}\")\n",
    "            print(f\"Phone: {details['phone']}\")\n",
    "            print(f\"Email: {details['email']}\")\n",
    "    else:\n",
    "        print(\"Your contact book is empty.\")\n",
    "\n",
    "def search_contact():\n",
    "    name = input(\"Enter the name of the contact you wanrt to search: \")\n",
    "    if name in contacts:\n",
    "        print(f\"\\n----Contact Details for {name} ---\")\n",
    "        print(f\"Name: {name}\")\n",
    "        print(f\"Phone: {details['phone']}\")\n",
    "        print(f\"Email: {details['email']}\")\n",
    "    else:\n",
    "        print(f\"Contact {name} not found in your contact book.\")\n",
    "\n",
    "def edit_contact():\n",
    "    name = input(\"Enter the name of the contact you want to edit: \")\n",
    "    if name in contacts:\n",
    "        phone = input(\"enter new phone number: \")\n",
    "        email = input(\"Enter new email: \")\n",
    "        contacts[name] = {\"phone\": phone,\"email\": email}\n",
    "        print(f\"Contact {name} has been updated successfully.\")\n",
    "    else:\n",
    "        print(f\"Contact {name} not found in your contact book.\")\n",
    "\n",
    "def delete_contact():\n",
    "    name = input(\"Enter the name of the contact you want to delete: \")\n",
    "    if name in contacts:\n",
    "        del contacts[name]\n",
    "        print(f\"Contact {name} has been deleted successfully.\")\n",
    "    else:\n",
    "        print(f\"Contact {name} not found in your contact book.\")\n",
    "\n",
    "while True:\n",
    "    show_menu()\n",
    "    choice = input(\"Enter your choice (1-6): \")\n",
    "\n",
    "    if choice == \"1\":\n",
    "        add_contact()\n",
    "    elif choice == \"2\":\n",
    "        view_contacts()\n",
    "    elif choice == \"3\":\n",
    "        search_contact()\n",
    "    elif choice == \"4\":\n",
    "        edit_contact()\n",
    "    elif choice == \"5\":\n",
    "        delete_contact()\n",
    "    elif choice == \"6\":\n",
    "        print(\"Thank you for using the Contact Book. GoodBye!\")\n",
    "        break\n",
    "    else:\n",
    "        print(\"Invalid choice.Please select a valid option (1-6).\")"
   ]
  },
  {
   "cell_type": "code",
   "execution_count": null,
   "id": "7e96ee47-fe82-4a96-90f6-78c55acfc065",
   "metadata": {},
   "outputs": [],
   "source": []
  }
 ],
 "metadata": {
  "kernelspec": {
   "display_name": "Python 3 (ipykernel)",
   "language": "python",
   "name": "python3"
  },
  "language_info": {
   "codemirror_mode": {
    "name": "ipython",
    "version": 3
   },
   "file_extension": ".py",
   "mimetype": "text/x-python",
   "name": "python",
   "nbconvert_exporter": "python",
   "pygments_lexer": "ipython3",
   "version": "3.12.7"
  }
 },
 "nbformat": 4,
 "nbformat_minor": 5
}
